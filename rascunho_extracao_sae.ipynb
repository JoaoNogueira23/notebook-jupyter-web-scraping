{
 "cells": [
  {
   "cell_type": "markdown",
   "metadata": {},
   "source": [
    "### <strong>Motivação:</strong> o site do SAE (o serviço de assistência social da Unicamp) está sendo migrado para uma nova arquitetura, então me solicitaram que eu extraisse a base e para enviar ao time de devs tercerizados.<br><br> Este trabalho faz parte de uma bolsa de assistência social que eu tenho"
   ]
  },
  {
   "cell_type": "markdown",
   "metadata": {},
   "source": [
    "### <strong>Tecnologia:</strong> Foi optado de fazer uma scraping via html porque não foi encontrada nanhuma api aberta ou xml page, por isso o uso do BeautifulSoup"
   ]
  },
  {
   "cell_type": "markdown",
   "metadata": {},
   "source": [
    "## Importação de libs"
   ]
  },
  {
   "cell_type": "code",
   "execution_count": 60,
   "metadata": {},
   "outputs": [],
   "source": [
    "from bs4 import BeautifulSoup\n",
    "import requests\n",
    "import json"
   ]
  },
  {
   "cell_type": "markdown",
   "metadata": {},
   "source": [
    "### Função de extração de dados de posts de uma page"
   ]
  },
  {
   "cell_type": "code",
   "execution_count": 71,
   "metadata": {},
   "outputs": [],
   "source": [
    "def extract_post(posts):\n",
    "    results = []\n",
    "    for sample in posts:\n",
    "\n",
    "        ### post desceription data\n",
    "        published_date_soup = sample.find(class_ = 'tm-article-date')\n",
    "\n",
    "        published_date = published_date_soup.find(class_ = 'tm-article-date-day').get_text().strip() + ' ' + published_date_soup.find(class_ = 'tm-article-date-year').get_text().strip()\n",
    "\n",
    "        article_title = sample.find(class_ = 'uk-article-title').get_text().strip()\n",
    "\n",
    "        ### paragraphs extract\n",
    "        paragraphs_soup = sample.find_all('p')\n",
    "\n",
    "        paragraphs_emphasis = [p.get_text().strip() for p in paragraphs_soup if p.get_text().strip() != '' and p.find('strong')]\n",
    "        \n",
    "        paragraphs = [p.get_text().strip() for p in paragraphs_soup if p.get_text().strip() != '' and not p.find('strong')]\n",
    "\n",
    "        results.append({\n",
    "            'title': article_title,\n",
    "            'publishedDate': published_date,\n",
    "            'paragraphs': paragraphs,\n",
    "            'emphasisParagraphs': paragraphs_emphasis\n",
    "        })\n",
    "\n",
    "    return results\n",
    "    "
   ]
  },
  {
   "cell_type": "markdown",
   "metadata": {},
   "source": [
    "### Função de runtime (estou fazendo um loop para extrair um database com um range grande)"
   ]
  },
  {
   "cell_type": "code",
   "execution_count": 72,
   "metadata": {},
   "outputs": [],
   "source": [
    "def main():\n",
    "    counter = 0\n",
    "\n",
    "    headers = {'accept': '*/*',\n",
    "           'User-Agent': 'Mozilla/5.0 (Macintosh; Intel Mac OS X 10_15_7) AppleWebKit/537.36 (KHTML, like Gecko) Chrome/101.0.4951.64 Safari/537.36 Edg/101.0.1210.53','Accept-Language': 'en-US,en;q=0.9,it;q=0.8,es;q=0.7'\n",
    "    }\n",
    "    results_pages = []\n",
    "\n",
    "    ## loop for extracting data from multiple pages\n",
    "    for i in range(1,100):\n",
    "        ## url formatation\n",
    "        print(f'Extraindo dados da page {i}')\n",
    "        url = ''\n",
    "        if counter == 0:\n",
    "            url = f'https://www.sae.unicamp.br/portal/pt/'\n",
    "        else:\n",
    "            url = f'https://www.sae.unicamp.br/portal/pt/?start={counter}'\n",
    "        \n",
    "        response = requests.get(url, headers=headers)\n",
    "\n",
    "        soup = BeautifulSoup(response.text)\n",
    "        \n",
    "        posts = soup.find_all(class_ = 'uk-article tm-article')\n",
    "        \n",
    "        ## data extract\n",
    "        results = extract_post(posts)\n",
    "\n",
    "        results_pages.append(results)\n",
    "        \n",
    "        counter += 3\n",
    "    \n",
    "    with open('posts.json', 'w') as file:\n",
    "        json.dump(results_pages, file, ensure_ascii=False)\n",
    "\n",
    "    return {\n",
    "        'statusCode': 200,\n",
    "        'message': 'Extraction success!'\n",
    "    }\n"
   ]
  }
 ],
 "metadata": {
  "kernelspec": {
   "display_name": "Python 3",
   "language": "python",
   "name": "python3"
  },
  "language_info": {
   "codemirror_mode": {
    "name": "ipython",
    "version": 3
   },
   "file_extension": ".py",
   "mimetype": "text/x-python",
   "name": "python",
   "nbconvert_exporter": "python",
   "pygments_lexer": "ipython3",
   "version": "3.9.13"
  }
 },
 "nbformat": 4,
 "nbformat_minor": 2
}
